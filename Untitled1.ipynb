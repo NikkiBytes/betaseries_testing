{
 "cells": [
  {
   "cell_type": "code",
   "execution_count": null,
   "metadata": {},
   "outputs": [],
   "source": [
    "import tempfile  # make a temporary directory for files\n",
    "import os  # interact with the filesystem\n",
    "import urllib.request  # grad data from internet\n",
    "import tarfile  # extract files from tar\n",
    "from subprocess import Popen, PIPE, STDOUT  # enable calling commandline\n",
    "\n",
    "import matplotlib.pyplot as plt  # manipulate figures\n",
    "import seaborn as sns  # display results\n",
    "import pandas as pd   # manipulate tabular "
   ]
  },
  {
   "cell_type": "code",
   "execution_count": null,
   "metadata": {},
   "outputs": [],
   "source": [
    "data_dir = '/projects/niblab/bids_projects/Experiments/Bevel/testing_beta'\n",
    "print('Our working directory: {}'.format(data_dir))"
   ]
  },
  {
   "cell_type": "code",
   "execution_count": null,
   "metadata": {},
   "outputs": [],
   "source": [
    "events_file = '/projects/niblab/bids_projects/Experiments/Bevel/testing_beta/sub-001/func/sub-001_run01_task-pst_events.tsv'\n",
    "events_df = pd.read_csv(events_file, sep=',', na_values=\"n/a\")\n",
    "print(events_df.head()) \n",
    "\n",
    "events_df.rename({\"outcome\": \"trial_type\"}, axis='columns', inplace=True)\n",
    "print(events_df.head())\n",
    "\n",
    "events_df.rename({\"RT\": \"response_time\"}, axis='columns', inplace=True)\n",
    "print(events_df.head())\n",
    "\n",
    "events_df.replace(\"Miss\", \"n/a\", inplace=True)\n",
    "print(events_df.head())\n",
    "\n",
    "new_df=events_df[[\"onset\", \"duration\", \"trial_type\", \"response_time\"]]\n",
    "new_df.to_csv(events_file, sep=\"\\t\", na_rep=\"n/a\", index=False)\n",
    "\n"
   ]
  },
  {
   "cell_type": "markdown",
   "metadata": {},
   "source": [
    "Index(['CSF', 'WhiteMatter', 'GlobalSignal', 'stdDVARS', 'non-stdDVARS',\n",
    "       'vx-wisestdDVARS', 'FramewiseDisplacement', 'tCompCor00', 'tCompCor01',\n",
    "       'tCompCor02', 'tCompCor03', 'tCompCor04', 'tCompCor05', 'aCompCor00',\n",
    "       'aCompCor01', 'aCompCor02', 'aCompCor03', 'aCompCor04', 'aCompCor05',\n",
    "       'Cosine00', 'Cosine01', 'Cosine02', 'Cosine03', 'Cosine04', 'Cosine05',\n",
    "       'Cosine06', 'NonSteadyStateOutlier00', 'X', 'Y', 'Z', 'RotX', 'RotY',\n",
    "       'RotZ'],\n",
    "      dtype='object')"
   ]
  },
  {
   "cell_type": "code",
   "execution_count": null,
   "metadata": {},
   "outputs": [],
   "source": []
  }
 ],
 "metadata": {
  "kernelspec": {
   "display_name": "Python 3",
   "language": "python",
   "name": "python3"
  },
  "language_info": {
   "codemirror_mode": {
    "name": "ipython",
    "version": 3
   },
   "file_extension": ".py",
   "mimetype": "text/x-python",
   "name": "python",
   "nbconvert_exporter": "python",
   "pygments_lexer": "ipython3",
   "version": "3.6.5"
  }
 },
 "nbformat": 4,
 "nbformat_minor": 2
}
